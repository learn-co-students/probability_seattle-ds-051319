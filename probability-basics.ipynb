{
 "cells": [
  {
   "cell_type": "markdown",
   "metadata": {
    "slideshow": {
     "slide_type": "slide"
    }
   },
   "source": [
    "# Probabilty Fundamentals\n",
    "\n",
    "![xkcd](increased_risk_2x.png)\n",
    "\n",
    "[xkcd comic 1252](https://xkcd.com/1252/)"
   ]
  },
  {
   "cell_type": "markdown",
   "metadata": {
    "slideshow": {
     "slide_type": "slide"
    }
   },
   "source": [
    "Learning goals for today:\n",
    "- Develop a definition of probability beyond coin tosses  \n",
    "- Describe set theory and its terminology\n",
    "- defining the size of sets with permutations and combinations\n"
   ]
  },
  {
   "cell_type": "markdown",
   "metadata": {
    "slideshow": {
     "slide_type": "slide"
    }
   },
   "source": [
    "## Learning Goal 1:\n",
    "\n",
    "### Openning Task:\n",
    "\n",
    "As a group, make a list of commonalities among the three scenarios.\n",
    "\n",
    "What does each one have to do with probability?"
   ]
  },
  {
   "cell_type": "markdown",
   "metadata": {
    "slideshow": {
     "slide_type": "slide"
    }
   },
   "source": [
    "### Scenario 1\n",
    "\n",
    "> Paul has the option between a high deductible plan and a low deductible plan for health insurance. \n",
    "If Paul chooses the low deductible plan he will pay the first 1000 dollars of the any medical costs. The low deductible plan costs 8000 dollars.<br>\n",
    "> If Paul chooses the high deductible plan he will pay the first 2500 dollars of any medical costs. The high deductible plan costs 7500 dollars. <br>\n",
    "> Paul found a table of data on the frequency of medical costs. Based on this table, which should he choose?\n",
    "\n",
    "| Cost | Probability|\n",
    "|:----:|:-------:|\n",
    "|0 | 30% |\n",
    "|1000 | 25%|\n",
    "|4000 | 20% |\n",
    "|7000 | 20% |\n",
    "|15000 | 5% |"
   ]
  },
  {
   "cell_type": "markdown",
   "metadata": {
    "slideshow": {
     "slide_type": "slide"
    }
   },
   "source": [
    "### Scenario 2\n",
    "\n",
    ">A drawer contains red socks and black socks. When two socks are drawn at random, the probability that both are red is 1/2. <br> \n",
    ">a) How small can the number of socks in the drawer be?<br>\n",
    ">b) How small if the number of black socks is even?\n",
    "\n",
    "[the sock problem](https://engineering-math.org/2017/05/10/the-sock-drawer-probability-and-statistics-problem/)"
   ]
  },
  {
   "cell_type": "markdown",
   "metadata": {
    "slideshow": {
     "slide_type": "slide"
    }
   },
   "source": [
    "### Scenario 3\n",
    "\n",
    ">Among engineers, risk is defined as a product of probability of the occurrence of an undesired event and the expected consequences in terms of human, economic, and environmental loss. These two components are equally important; therefore, the appropriate estimation of these values is a matter of great significance. This paper deals with one of these two components—the assessment of the probability of vessels colliding, presenting a new approach for the geometrical probability of collision estimation on the basis of maritime and aviation experience. The geometrical model that is being introduced in this paper takes into account registered vessel traffic data and generalised vessel dynamics and uses advanced statistical and optimisation methods (Monte Carlo and genetic algorithms). The results obtained from the model are compared with registered data for maritime traffic in the Gulf of Finland and a good agreement is found.\n",
    "\n",
    "[Probability modelling of vessel collisions](https://www.sciencedirect.com/science/article/pii/S0951832010000256)"
   ]
  },
  {
   "cell_type": "markdown",
   "metadata": {
    "slideshow": {
     "slide_type": "slide"
    }
   },
   "source": [
    "__What is probability?__"
   ]
  },
  {
   "cell_type": "markdown",
   "metadata": {},
   "source": []
  },
  {
   "cell_type": "markdown",
   "metadata": {
    "slideshow": {
     "slide_type": "slide"
    }
   },
   "source": [
    "__What should I care about probabilities?__<br>\n",
    "Studying probabilities allows us to make better and more informed decisions, based on data previously collected. For example, understanding the fact that it is nearly impossible for us to ever win the lottery from a probabilistically stand point deters us from ever relying on that as a source of income. <br>\n",
    "Probability theory also lies in the heart of making inference using our data, which is what statistics is all about!"
   ]
  },
  {
   "cell_type": "markdown",
   "metadata": {
    "slideshow": {
     "slide_type": "slide"
    }
   },
   "source": [
    "## II. Set Theory\n",
    "In probability theory, a set is denoted as a well-defined collection of objects.\n",
    "Mathematically, you can define a set by $S$. If an element $x$ belongs to a set $S$, then you'd write $x \\in S$. On the other hand, if $x$ does not belong to a set $S$, then you'd write $x\\notin S$."
   ]
  },
  {
   "cell_type": "markdown",
   "metadata": {
    "slideshow": {
     "slide_type": "slide"
    }
   },
   "source": [
    "__2.1 Subsets__ <br>\n",
    "Set $T$ is a subset of set $S$ if every element in set $T$ is also in set $S$. The mathematical notation for a subset is $T \\subset S$.\n",
    "\n",
    "The empty set, $\\emptyset$ or { }, is a subset of every set. Do you see why?\n",
    "\n",
    "__2.2 Set Operations__ <br>\n",
    "\n",
    "    - Union of Two Sets: The union of 2 sets S and T is the set of elements that belong either to S or to T (or to both).\n",
    "    \n",
    "    - The intersection of two sets S and T is the set of all elements that belong *both* to S and to T."
   ]
  },
  {
   "cell_type": "markdown",
   "metadata": {
    "slideshow": {
     "slide_type": "slide"
    }
   },
   "source": [
    "We are trying to create rooming arrangements based on staff interest for a staff trip. <br>\n",
    "Who should room with whom based on interests?\n",
    "\n",
    "This is another way to look at sets.<br>\n",
    "And we can still use the math!"
   ]
  },
  {
   "cell_type": "code",
   "execution_count": 26,
   "metadata": {
    "slideshow": {
     "slide_type": "fragment"
    }
   },
   "outputs": [],
   "source": [
    "Robin = set([\"art\", \"traveling\", \"wine\", \"doodling\", \"tech\", \"gadgets\"])\n",
    "Rob = set([\"rock-climbing\", \"traveling\", \"dad jokes\", \"ice cream\"])\n",
    "Alison = set([\"wine\", \"traveling\", \"schitts creek\", \"dogs\"])\n",
    "Su = set([\"schitts creek\", \"dogs\", \"tarot card reading\", \"croquet\", \"taxonomy\"])\n",
    "Molly = set([\"wine\", \"ice cream\", \"dogs\", \"zookeeping\", \"traveling\"])"
   ]
  },
  {
   "cell_type": "code",
   "execution_count": 1,
   "metadata": {},
   "outputs": [],
   "source": [
    "Robin.intersection(Alison)"
   ]
  },
  {
   "cell_type": "code",
   "execution_count": 2,
   "metadata": {},
   "outputs": [],
   "source": [
    "Rob.intersection(Alison)"
   ]
  },
  {
   "cell_type": "code",
   "execution_count": 3,
   "metadata": {},
   "outputs": [],
   "source": [
    "Alison.intersection(Su)"
   ]
  },
  {
   "cell_type": "code",
   "execution_count": 4,
   "metadata": {},
   "outputs": [],
   "source": [
    "Su.union(Molly)"
   ]
  },
  {
   "cell_type": "code",
   "execution_count": 5,
   "metadata": {},
   "outputs": [],
   "source": [
    "Molly.intersection(Rob).intersection(Robin)"
   ]
  },
  {
   "cell_type": "code",
   "execution_count": 6,
   "metadata": {},
   "outputs": [],
   "source": [
    "Alison.intersection(Su)"
   ]
  },
  {
   "cell_type": "markdown",
   "metadata": {
    "slideshow": {
     "slide_type": "slide"
    }
   },
   "source": [
    "**Task**:\n",
    "\n",
    "- Try drawing the Venn diagram of interests for Robin and Rob. Now add in a circle for Alison. How many 'sections' should the new diagram have? What about adding in a fourth circle for Su? And a final circle for Molly?\n"
   ]
  },
  {
   "cell_type": "markdown",
   "metadata": {
    "slideshow": {
     "slide_type": "slide"
    }
   },
   "source": [
    "## Foundations of (Independent) Probabilities \n",
    "\n",
    "What's the probability that a staff person likes wine?\n",
    "\n",
    "That's a very specific probability example.\n",
    "\n",
    "But there are other applications and terminology that are important for probability. \n",
    "\n",
    "\n",
    "In this section, we will introduce you to the foundation of independent probability theory. Later on in the course, you will be introduced to concepts such as conditional probability and probability of dependent events."
   ]
  },
  {
   "cell_type": "markdown",
   "metadata": {
    "slideshow": {
     "slide_type": "slide"
    }
   },
   "source": [
    "__Terminology Alert__ \n",
    "- Random Variable\n",
    "    - A random variable is a variable whose outcome is the result of a random phenomenon which can take on different values\n",
    "    - A random variable can either be discrete or continuous\n",
    "        - __Discrete__ : the variable takes on integer values\n",
    "        - __Continous__ : can take on any values"
   ]
  },
  {
   "cell_type": "markdown",
   "metadata": {
    "slideshow": {
     "slide_type": "slide"
    }
   },
   "source": [
    "####  Probability of A and B \n",
    "<center>$P(A and B) = P(A) * P(B)$</center>\n",
    "\n",
    "What's the probability that a staff person likes wine *and* likes dogs?"
   ]
  },
  {
   "cell_type": "markdown",
   "metadata": {
    "slideshow": {
     "slide_type": "slide"
    }
   },
   "source": [
    "#### Probabilities of A or B\n",
    "<center>$P(A  or  B) = P(A) + P(B) - P(A  and  B)$</center>\n",
    "\n",
    "What's the probabilty that someone like ice cream *or* traveling?"
   ]
  },
  {
   "cell_type": "markdown",
   "metadata": {
    "slideshow": {
     "slide_type": "slide"
    }
   },
   "source": [
    "What happens when you have multiple events? "
   ]
  },
  {
   "cell_type": "markdown",
   "metadata": {
    "slideshow": {
     "slide_type": "fragment"
    }
   },
   "source": [
    "$$ P(A orB or C) = P(A) + P(B) + P(C) - P(A and B) - P(A and C) - P(B and C) + P(A&B&C) $$"
   ]
  },
  {
   "cell_type": "markdown",
   "metadata": {},
   "source": [
    "Can you explain the above formula?"
   ]
  },
  {
   "cell_type": "markdown",
   "metadata": {
    "slideshow": {
     "slide_type": "slide"
    }
   },
   "source": [
    "## Permutations & Combinations\n",
    "Help us define the full *set* of options related to a probability"
   ]
  },
  {
   "cell_type": "markdown",
   "metadata": {
    "slideshow": {
     "slide_type": "slide"
    }
   },
   "source": [
    "**Permutation**\n",
    "    - ordering matters\n",
    "    - how many different arrangement can you get out of a number of elements?\n",
    "    - possible number of arrangement $r$ out of a total of $n$ elements is given by: <br/>\n",
    "    $n! / (n – r)!$ "
   ]
  },
  {
   "cell_type": "markdown",
   "metadata": {
    "slideshow": {
     "slide_type": "fragment"
    }
   },
   "source": [
    "```\n",
    "from itertools import permutations \n",
    "l = list(permutations(range(1, 4))) \n",
    "print l\n",
    "```"
   ]
  },
  {
   "cell_type": "markdown",
   "metadata": {
    "slideshow": {
     "slide_type": "slide"
    }
   },
   "source": [
    "#### Scenario:\n",
    "\n",
    "You are trying to break the code - to hack into the mainframe, and stop the KGB from launching US missiles remotely.\n",
    "\n",
    "You know the password is some 5 letter anagram of a subset of the word \"pochemuchka\"\n",
    "\n",
    "How many words potential passwords are there? ie, how large is the **set** of password options?"
   ]
  },
  {
   "cell_type": "code",
   "execution_count": 33,
   "metadata": {
    "slideshow": {
     "slide_type": "skip"
    }
   },
   "outputs": [],
   "source": [
    "from itertools import permutations \n",
    "l = list(permutations(\"pochemuchka\", 5)) "
   ]
  },
  {
   "cell_type": "code",
   "execution_count": 34,
   "metadata": {},
   "outputs": [
    {
     "data": {
      "text/plain": [
       "55440"
      ]
     },
     "execution_count": 34,
     "metadata": {},
     "output_type": "execute_result"
    }
   ],
   "source": [
    "len(l)"
   ]
  },
  {
   "cell_type": "code",
   "execution_count": 35,
   "metadata": {},
   "outputs": [
    {
     "data": {
      "text/plain": [
       "22050"
      ]
     },
     "execution_count": 35,
     "metadata": {},
     "output_type": "execute_result"
    }
   ],
   "source": [
    "len(set(l))"
   ]
  },
  {
   "cell_type": "markdown",
   "metadata": {
    "slideshow": {
     "slide_type": "slide"
    }
   },
   "source": [
    "What's the probability that the password starts with p?"
   ]
  },
  {
   "cell_type": "code",
   "execution_count": null,
   "metadata": {
    "slideshow": {
     "slide_type": "skip"
    }
   },
   "outputs": [],
   "source": []
  },
  {
   "cell_type": "markdown",
   "metadata": {
    "slideshow": {
     "slide_type": "slide"
    }
   },
   "source": [
    "**Combination:**\n",
    "    - ordering does not matter\n",
    "    - how many different selections can you get out of number of elements?\n",
    "    - possible number of selections $r$ out of a total of $n$ elements given by: <br/>\n",
    "    $n! / (r ! * (n – r)!)$\n",
    "\n",
    "    - Example: How many ways are there of choosing a five-card poker hand from a deck of 52 cards?"
   ]
  },
  {
   "cell_type": "markdown",
   "metadata": {
    "slideshow": {
     "slide_type": "slide"
    }
   },
   "source": [
    "#### Scenario A\n",
    "- Combinatorics in specific scenario\n",
    "    - What is the probability of getting exactly 3 heads out of 5 fair coins? \n",
    "    - What is the probability of getting at least 3 heads out of 5 tosses?\n",
    "- The Binomial Theorem tells us the probability of k successes on n binary trials:\n",
    "\n",
    "$P(n, k, p)$ = ${n}\\choose {k}$ $p^k (1-p)^{n-k}$\n",
    "\n",
    "Can you explain this equation?"
   ]
  },
  {
   "cell_type": "markdown",
   "metadata": {
    "slideshow": {
     "slide_type": "slide"
    }
   },
   "source": [
    "#### Scenario B\n",
    "if you used combinations rather than permutations to figure out the kgb password - how many passwords would you potentially miss?"
   ]
  },
  {
   "cell_type": "code",
   "execution_count": 36,
   "metadata": {},
   "outputs": [],
   "source": [
    "from itertools import combinations \n",
    "l = list(combinations(\"pochemuchka\", 5)) "
   ]
  },
  {
   "cell_type": "code",
   "execution_count": 37,
   "metadata": {},
   "outputs": [
    {
     "data": {
      "text/plain": [
       "452"
      ]
     },
     "execution_count": 37,
     "metadata": {},
     "output_type": "execute_result"
    }
   ],
   "source": [
    "len(set(l))"
   ]
  },
  {
   "cell_type": "code",
   "execution_count": null,
   "metadata": {},
   "outputs": [],
   "source": []
  }
 ],
 "metadata": {
  "kernelspec": {
   "display_name": "Python 3",
   "language": "python",
   "name": "python3"
  },
  "language_info": {
   "codemirror_mode": {
    "name": "ipython",
    "version": 3
   },
   "file_extension": ".py",
   "mimetype": "text/x-python",
   "name": "python",
   "nbconvert_exporter": "python",
   "pygments_lexer": "ipython3",
   "version": "3.7.1"
  }
 },
 "nbformat": 4,
 "nbformat_minor": 2
}
